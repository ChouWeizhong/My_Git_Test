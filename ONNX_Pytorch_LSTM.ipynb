{
 "cells": [
  {
   "cell_type": "markdown",
   "metadata": {},
   "source": [
    "## Pytorch LSTM auto convert test \n",
    "\n",
    "### 1.Build LSTM"
   ]
  },
  {
   "cell_type": "code",
   "execution_count": 1,
   "metadata": {},
   "outputs": [],
   "source": [
    "import os\n",
    "import numpy as np\n",
    "import torch\n",
    "import torch.nn as nn\n",
    "import onnx\n",
    "import onnxruntime"
   ]
  },
  {
   "cell_type": "code",
   "execution_count": 2,
   "metadata": {},
   "outputs": [],
   "source": [
    "class LSTMModel(nn.Module):\n",
    "\n",
    "    def __init__(self, window_size, input_size):\n",
    "        super().__init__()\n",
    "\n",
    "        self.window_size = window_size\n",
    "        self.input_size = input_size\n",
    "        self.LSTM = nn.LSTM(input_size=input_size, hidden_size=window_size, batch_first=True, bidirectional=True)\n",
    "        self.linear_out = nn.Linear(window_size * 2, 2)\n",
    "\n",
    "    def forward(self, x):\n",
    "        output, (hn, cn) = self.LSTM(x)\n",
    "        out = self.linear_out(output[-1][-1])\n",
    "\n",
    "        return out"
   ]
  },
  {
   "cell_type": "code",
   "execution_count": 3,
   "metadata": {},
   "outputs": [
    {
     "data": {
      "text/plain": [
       "LSTMModel(\n",
       "  (LSTM): LSTM(9, 60, batch_first=True, bidirectional=True)\n",
       "  (linear_out): Linear(in_features=120, out_features=2, bias=True)\n",
       ")"
      ]
     },
     "execution_count": 3,
     "metadata": {},
     "output_type": "execute_result"
    }
   ],
   "source": [
    "window_size = 60\n",
    "input_size = 9\n",
    "model = LSTMModel(window_size, input_size)\n",
    "model.eval()"
   ]
  },
  {
   "cell_type": "markdown",
   "metadata": {},
   "source": [
    "### 2.Convert model to ONNX type\n",
    "\n",
    "ONNX conversion requires one data to help fix the graph, and also fix BatchSize.\n",
    "\n",
    "Here we use one random data to do this."
   ]
  },
  {
   "cell_type": "code",
   "execution_count": 4,
   "metadata": {},
   "outputs": [],
   "source": [
    "batch_size = 1\n",
    "x = torch.randn(batch_size, 60, 9, requires_grad=True)\n",
    "torch_out = model(x)"
   ]
  },
  {
   "cell_type": "code",
   "execution_count": 5,
   "metadata": {},
   "outputs": [],
   "source": [
    "torch.onnx.export(model,               # model being run\n",
    "                  x,                         # model input (or a tuple for multiple inputs)\n",
    "                  \"LSTM.onnx\",   # where to save the model (can be a file or file-like object)\n",
    "                  export_params=True,        # store the trained parameter weights inside the model file\n",
    "                  opset_version=10,          # the ONNX version to export the model to\n",
    "                  do_constant_folding=True,  # wether to execute constant folding for optimization\n",
    "                  input_names = ['input'],   # the model's input names\n",
    "                  output_names = ['output'] # the model's output names\n",
    "                  )\n",
    "#torch.onnx.export(model, dummy_input, \"alexnet.onnx\") #simple version"
   ]
  },
  {
   "cell_type": "code",
   "execution_count": 6,
   "metadata": {},
   "outputs": [
    {
     "name": "stdout",
     "output_type": "stream",
     "text": [
      "graph torch-jit-export (\n",
      "  %input[FLOAT, 1x60x9]\n",
      ") optional inputs with matching initializers (\n",
      "  %linear_out.bias[FLOAT, 2]\n",
      "  %152[INT64, 1]\n",
      "  %153[INT64, 1]\n",
      "  %194[FLOAT, 2x240x9]\n",
      "  %195[FLOAT, 2x240x60]\n",
      "  %196[FLOAT, 2x480]\n",
      "  %197[FLOAT, 120x2]\n",
      ") {\n",
      "  %11 = Constant[value = <Scalar Tensor []>]()\n",
      "  %12 = Shape(%input)\n",
      "  %13 = Gather[axis = 0](%12, %11)\n",
      "  %17 = Unsqueeze[axes = [0]](%13)\n",
      "  %19 = Concat[axis = 0](%152, %17, %153)\n",
      "  %20 = ConstantOfShape[value = <Tensor>](%19)\n",
      "  %21 = Transpose[perm = [1, 0, 2]](%input)\n",
      "  %138, %139, %140 = LSTM[direction = 'bidirectional', hidden_size = 60](%21, %194, %195, %196, %, %20, %20)\n",
      "  %141 = Transpose[perm = [0, 2, 1, 3]](%138)\n",
      "  %142 = Constant[value = <Tensor>]()\n",
      "  %143 = Reshape(%141, %142)\n",
      "  %144 = Transpose[perm = [1, 0, 2]](%143)\n",
      "  %145 = Constant[value = <Scalar Tensor []>]()\n",
      "  %146 = Gather[axis = 0](%144, %145)\n",
      "  %147 = Constant[value = <Scalar Tensor []>]()\n",
      "  %148 = Gather[axis = 0](%146, %147)\n",
      "  %150 = MatMul(%148, %197)\n",
      "  %output = Add(%150, %linear_out.bias)\n",
      "  return %output\n",
      "}\n"
     ]
    }
   ],
   "source": [
    "onnx_model = onnx.load(\"LSTM.onnx\")\n",
    "onnx.checker.check_model(onnx_model)\n",
    "\n",
    "print(onnx.helper.printable_graph(onnx_model.graph))"
   ]
  },
  {
   "cell_type": "code",
   "execution_count": 7,
   "metadata": {},
   "outputs": [
    {
     "name": "stdout",
     "output_type": "stream",
     "text": [
      "Input name  : input\n",
      "Input shape : [1, 60, 9]\n",
      "Input type  : tensor(float)\n",
      "Output name  : output\n",
      "Output shape : [2]\n",
      "Output type  : tensor(float)\n"
     ]
    }
   ],
   "source": [
    "ort_session = onnxruntime.InferenceSession(\"LSTM.onnx\")\n",
    "\n",
    "input_name = ort_session.get_inputs()[0].name\n",
    "print(\"Input name  :\", input_name)\n",
    "input_shape = ort_session.get_inputs()[0].shape\n",
    "print(\"Input shape :\", input_shape)\n",
    "input_type = ort_session.get_inputs()[0].type\n",
    "print(\"Input type  :\", input_type)\n",
    "\n",
    "output_name = ort_session.get_outputs()[0].name\n",
    "print(\"Output name  :\", output_name)  \n",
    "output_shape = ort_session.get_outputs()[0].shape\n",
    "print(\"Output shape :\", output_shape)\n",
    "output_type = ort_session.get_outputs()[0].type\n",
    "print(\"Output type  :\", output_type)\n"
   ]
  },
  {
   "cell_type": "markdown",
   "metadata": {},
   "source": [
    "### 3.Running Check\n",
    "\n",
    "Because Network still Not trained, So only use Random number to see if it can work."
   ]
  },
  {
   "cell_type": "code",
   "execution_count": 8,
   "metadata": {},
   "outputs": [],
   "source": [
    "xt = np.random.random(input_shape)\n",
    "xt = xt.astype(np.float32)"
   ]
  },
  {
   "cell_type": "code",
   "execution_count": 9,
   "metadata": {},
   "outputs": [
    {
     "ename": "RuntimeError",
     "evalue": "Method run failed due to: [ONNXRuntimeError] : 2 : INVALID_ARGUMENT : Non-zero status code returned while running Node:  Status Message: indices element out of data bounds, idx=-1 data_dim=1",
     "output_type": "error",
     "traceback": [
      "\u001b[0;31m---------------------------------------------------------------------------\u001b[0m",
      "\u001b[0;31mRuntimeError\u001b[0m                              Traceback (most recent call last)",
      "\u001b[0;32m<timed exec>\u001b[0m in \u001b[0;36m<module>\u001b[0;34m\u001b[0m\n",
      "\u001b[0;32m/usr/local/lib/python3.7/site-packages/onnxruntime/capi/session.py\u001b[0m in \u001b[0;36mrun\u001b[0;34m(self, output_names, input_feed, run_options)\u001b[0m\n\u001b[1;32m     70\u001b[0m         \u001b[0;32mif\u001b[0m \u001b[0;32mnot\u001b[0m \u001b[0moutput_names\u001b[0m\u001b[0;34m:\u001b[0m\u001b[0;34m\u001b[0m\u001b[0;34m\u001b[0m\u001b[0m\n\u001b[1;32m     71\u001b[0m             \u001b[0moutput_names\u001b[0m \u001b[0;34m=\u001b[0m \u001b[0;34m[\u001b[0m\u001b[0moutput\u001b[0m\u001b[0;34m.\u001b[0m\u001b[0mname\u001b[0m \u001b[0;32mfor\u001b[0m \u001b[0moutput\u001b[0m \u001b[0;32min\u001b[0m \u001b[0mself\u001b[0m\u001b[0;34m.\u001b[0m\u001b[0m_outputs_meta\u001b[0m\u001b[0;34m]\u001b[0m\u001b[0;34m\u001b[0m\u001b[0;34m\u001b[0m\u001b[0m\n\u001b[0;32m---> 72\u001b[0;31m         \u001b[0;32mreturn\u001b[0m \u001b[0mself\u001b[0m\u001b[0;34m.\u001b[0m\u001b[0m_sess\u001b[0m\u001b[0;34m.\u001b[0m\u001b[0mrun\u001b[0m\u001b[0;34m(\u001b[0m\u001b[0moutput_names\u001b[0m\u001b[0;34m,\u001b[0m \u001b[0minput_feed\u001b[0m\u001b[0;34m,\u001b[0m \u001b[0mrun_options\u001b[0m\u001b[0;34m)\u001b[0m\u001b[0;34m\u001b[0m\u001b[0;34m\u001b[0m\u001b[0m\n\u001b[0m\u001b[1;32m     73\u001b[0m \u001b[0;34m\u001b[0m\u001b[0m\n\u001b[1;32m     74\u001b[0m     \u001b[0;32mdef\u001b[0m \u001b[0mend_profiling\u001b[0m\u001b[0;34m(\u001b[0m\u001b[0mself\u001b[0m\u001b[0;34m)\u001b[0m\u001b[0;34m:\u001b[0m\u001b[0;34m\u001b[0m\u001b[0;34m\u001b[0m\u001b[0m\n",
      "\u001b[0;31mRuntimeError\u001b[0m: Method run failed due to: [ONNXRuntimeError] : 2 : INVALID_ARGUMENT : Non-zero status code returned while running Node:  Status Message: indices element out of data bounds, idx=-1 data_dim=1"
     ]
    }
   ],
   "source": [
    "%%time\n",
    "result = ort_session.run([output_name], {input_name: xt})"
   ]
  },
  {
   "cell_type": "markdown",
   "metadata": {},
   "source": [
    "### Error reason:\n",
    "After search on Github find that because ONNX Runtime version problem:\n",
    "\n",
    "Now newest pipy version is 0.5.0 released on 02-aug\n",
    "\n",
    "Bug already fixed in source file.\n",
    "\n",
    "Need waiting for new releas of onnxruntime."
   ]
  },
  {
   "cell_type": "markdown",
   "metadata": {},
   "source": [
    "### 4.Consistency check\n",
    "\n",
    "Reserved Consistency Detection\n",
    "\n",
    "In the future, the trained models can use this for transformed consistency checking."
   ]
  },
  {
   "cell_type": "code",
   "execution_count": null,
   "metadata": {},
   "outputs": [],
   "source": [
    "def to_numpy(tensor):\n",
    "    return tensor.detach().cpu().numpy() if tensor.requires_grad else tensor.cpu().numpy()\n",
    "\n",
    "# compute ONNX Runtime output prediction\n",
    "x_in = to_numpy(x)\n",
    "print(x_in.shape)\n",
    "ort_inputs = {ort_session.get_inputs()[0].name: x_in }\n",
    "ort_outs = ort_session.run([ort_session.get_outputs()[0].name], ort_inputs)\n",
    "\n",
    "# compare ONNX Runtime and PyTorch results\n",
    "np.testing.assert_allclose(to_numpy(torch_out), ort_outs[0], rtol=1e-03, atol=1e-05)\n",
    "\n",
    "print(\"Exported model has been tested with ONNXRuntime, and the result looks good!\")"
   ]
  }
 ],
 "metadata": {
  "kernelspec": {
   "display_name": "Python 3",
   "language": "python",
   "name": "python3"
  },
  "language_info": {
   "codemirror_mode": {
    "name": "ipython",
    "version": 3
   },
   "file_extension": ".py",
   "mimetype": "text/x-python",
   "name": "python",
   "nbconvert_exporter": "python",
   "pygments_lexer": "ipython3",
   "version": "3.7.3"
  }
 },
 "nbformat": 4,
 "nbformat_minor": 2
}
